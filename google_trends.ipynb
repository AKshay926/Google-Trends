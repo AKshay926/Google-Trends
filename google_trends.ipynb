{
  "nbformat": 4,
  "nbformat_minor": 0,
  "metadata": {
    "colab": {
      "name": "google trends.ipynb",
      "provenance": []
    },
    "kernelspec": {
      "name": "python3",
      "display_name": "Python 3"
    }
  },
  "cells": [
    {
      "cell_type": "code",
      "metadata": {
        "id": "jrMyzCkje3bx",
        "colab_type": "code",
        "colab": {
          "base_uri": "https://localhost:8080/",
          "height": 319
        },
        "outputId": "f3995a03-2eb0-44e4-c6c6-316950db3ab6"
      },
      "source": [
        "!pip install pytrends\n",
        "!pip install openpyxl"
      ],
      "execution_count": 4,
      "outputs": [
        {
          "output_type": "stream",
          "text": [
            "Collecting pytrends\n",
            "  Downloading https://files.pythonhosted.org/packages/96/53/a4a74c33bfdbe1740183e00769377352072e64182913562daf9f5e4f1938/pytrends-4.7.3-py3-none-any.whl\n",
            "Requirement already satisfied: requests in /usr/local/lib/python3.6/dist-packages (from pytrends) (2.23.0)\n",
            "Requirement already satisfied: lxml in /usr/local/lib/python3.6/dist-packages (from pytrends) (4.2.6)\n",
            "Requirement already satisfied: pandas>=0.25 in /usr/local/lib/python3.6/dist-packages (from pytrends) (1.0.5)\n",
            "Requirement already satisfied: certifi>=2017.4.17 in /usr/local/lib/python3.6/dist-packages (from requests->pytrends) (2020.6.20)\n",
            "Requirement already satisfied: chardet<4,>=3.0.2 in /usr/local/lib/python3.6/dist-packages (from requests->pytrends) (3.0.4)\n",
            "Requirement already satisfied: idna<3,>=2.5 in /usr/local/lib/python3.6/dist-packages (from requests->pytrends) (2.9)\n",
            "Requirement already satisfied: urllib3!=1.25.0,!=1.25.1,<1.26,>=1.21.1 in /usr/local/lib/python3.6/dist-packages (from requests->pytrends) (1.24.3)\n",
            "Requirement already satisfied: pytz>=2017.2 in /usr/local/lib/python3.6/dist-packages (from pandas>=0.25->pytrends) (2018.9)\n",
            "Requirement already satisfied: numpy>=1.13.3 in /usr/local/lib/python3.6/dist-packages (from pandas>=0.25->pytrends) (1.18.5)\n",
            "Requirement already satisfied: python-dateutil>=2.6.1 in /usr/local/lib/python3.6/dist-packages (from pandas>=0.25->pytrends) (2.8.1)\n",
            "Requirement already satisfied: six>=1.5 in /usr/local/lib/python3.6/dist-packages (from python-dateutil>=2.6.1->pandas>=0.25->pytrends) (1.12.0)\n",
            "Installing collected packages: pytrends\n",
            "Successfully installed pytrends-4.7.3\n",
            "Requirement already satisfied: openpyxl in /usr/local/lib/python3.6/dist-packages (2.5.9)\n",
            "Requirement already satisfied: jdcal in /usr/local/lib/python3.6/dist-packages (from openpyxl) (1.4.1)\n",
            "Requirement already satisfied: et-xmlfile in /usr/local/lib/python3.6/dist-packages (from openpyxl) (1.0.1)\n"
          ],
          "name": "stdout"
        }
      ]
    },
    {
      "cell_type": "code",
      "metadata": {
        "colab_type": "code",
        "id": "lrOn2eEafIni",
        "colab": {}
      },
      "source": [
        "import pandas as pd\n",
        "from pytrends.request import TrendReq\n",
        "pytrends = TrendReq(hl='en-US', tz=360)"
      ],
      "execution_count": 5,
      "outputs": []
    },
    {
      "cell_type": "code",
      "metadata": {
        "id": "Zz3l9LjJe4nY",
        "colab_type": "code",
        "colab": {}
      },
      "source": [
        "pytrends = TrendReq(hl='en-US')     \n",
        "                \n",
        "#extract data about weekly searches of certain keywords\n",
        "keywords = [\"Google Meet\", \"Zoom App\", \"Microsoft Teams\"]\n",
        "pytrends.build_payload(keywords, timeframe='today 5-y')"
      ],
      "execution_count": 38,
      "outputs": []
    },
    {
      "cell_type": "code",
      "metadata": {
        "id": "DOSOzp_rEBw6",
        "colab_type": "code",
        "colab": {
          "base_uri": "https://localhost:8080/",
          "height": 225
        },
        "outputId": "5f45bf45-7059-4cb1-db67-501509c7fae9"
      },
      "source": [
        "data = pytrends.interest_over_time()\n",
        "data = data.drop('isPartial', axis=1)\n",
        "\n",
        "data.tail()"
      ],
      "execution_count": 39,
      "outputs": [
        {
          "output_type": "execute_result",
          "data": {
            "text/html": [
              "<div>\n",
              "<style scoped>\n",
              "    .dataframe tbody tr th:only-of-type {\n",
              "        vertical-align: middle;\n",
              "    }\n",
              "\n",
              "    .dataframe tbody tr th {\n",
              "        vertical-align: top;\n",
              "    }\n",
              "\n",
              "    .dataframe thead th {\n",
              "        text-align: right;\n",
              "    }\n",
              "</style>\n",
              "<table border=\"1\" class=\"dataframe\">\n",
              "  <thead>\n",
              "    <tr style=\"text-align: right;\">\n",
              "      <th></th>\n",
              "      <th>Google Meet</th>\n",
              "      <th>Zoom App</th>\n",
              "      <th>Microsoft Teams</th>\n",
              "    </tr>\n",
              "    <tr>\n",
              "      <th>date</th>\n",
              "      <th></th>\n",
              "      <th></th>\n",
              "      <th></th>\n",
              "    </tr>\n",
              "  </thead>\n",
              "  <tbody>\n",
              "    <tr>\n",
              "      <th>2020-06-07</th>\n",
              "      <td>68</td>\n",
              "      <td>23</td>\n",
              "      <td>53</td>\n",
              "    </tr>\n",
              "    <tr>\n",
              "      <th>2020-06-14</th>\n",
              "      <td>63</td>\n",
              "      <td>24</td>\n",
              "      <td>50</td>\n",
              "    </tr>\n",
              "    <tr>\n",
              "      <th>2020-06-21</th>\n",
              "      <td>59</td>\n",
              "      <td>23</td>\n",
              "      <td>46</td>\n",
              "    </tr>\n",
              "    <tr>\n",
              "      <th>2020-06-28</th>\n",
              "      <td>57</td>\n",
              "      <td>29</td>\n",
              "      <td>42</td>\n",
              "    </tr>\n",
              "    <tr>\n",
              "      <th>2020-07-05</th>\n",
              "      <td>61</td>\n",
              "      <td>22</td>\n",
              "      <td>46</td>\n",
              "    </tr>\n",
              "  </tbody>\n",
              "</table>\n",
              "</div>"
            ],
            "text/plain": [
              "            Google Meet  Zoom App  Microsoft Teams\n",
              "date                                              \n",
              "2020-06-07           68        23               53\n",
              "2020-06-14           63        24               50\n",
              "2020-06-21           59        23               46\n",
              "2020-06-28           57        29               42\n",
              "2020-07-05           61        22               46"
            ]
          },
          "metadata": {
            "tags": []
          },
          "execution_count": 39
        }
      ]
    },
    {
      "cell_type": "code",
      "metadata": {
        "id": "X9iNm5CsgMpt",
        "colab_type": "code",
        "colab": {
          "base_uri": "https://localhost:8080/",
          "height": 308
        },
        "outputId": "d0bc7a01-d730-474c-a82c-8384dc79aa03"
      },
      "source": [
        "import matplotlib.pyplot as plt\n",
        "\n",
        "#plot data\n",
        "plt.plot(data)\n",
        "\n",
        "#add titles\n",
        "plt.suptitle('Online eductaional Portal Searches on Google Trends')\n",
        "plt.xlabel('years')                       \n",
        "plt.ylabel('weekly searches')  \n",
        "\n",
        "#add legend\n",
        "plt.legend(keywords, loc='upper left')\n",
        "\n",
        "plt.show()\n"
      ],
      "execution_count": 40,
      "outputs": [
        {
          "output_type": "display_data",
          "data": {
            "image/png": "[encoded data removed]",
            "text/plain": [
              "<Figure size 432x288 with 1 Axes>"
            ]
          },
          "metadata": {
            "tags": [],
            "needs_background": "light"
          }
        }
      ]
    },
    {
      "cell_type": "code",
      "metadata": {
        "id": "lNlVYyaXiZky",
        "colab_type": "code",
        "colab": {
          "base_uri": "https://localhost:8080/",
          "height": 282
        },
        "outputId": "fd25bd54-89eb-401f-97d4-568ffb76e95f"
      },
      "source": [
        "focus = ['Google Meet', 'Zoom App'] \n",
        "\n",
        "plt.plot(data[focus])\n",
        "plt.legend(focus)"
      ],
      "execution_count": 41,
      "outputs": [
        {
          "output_type": "execute_result",
          "data": {
            "text/plain": [
              "<matplotlib.legend.Legend at 0x7f5db6411e10>"
            ]
          },
          "metadata": {
            "tags": []
          },
          "execution_count": 41
        },
        {
          "output_type": "display_data",
          "data": {
            "image/png": "[encoded data removed]",
            "text/plain": [
              "<Figure size 432x288 with 1 Axes>"
            ]
          },
          "metadata": {
            "tags": [],
            "needs_background": "light"
          }
        }
      ]
    },
    {
      "cell_type": "code",
      "metadata": {
        "id": "C6nKTw5BvKl2",
        "colab_type": "code",
        "colab": {
          "base_uri": "https://localhost:8080/",
          "height": 373
        },
        "outputId": "65629e76-75fc-447f-d813-da1ebf7588fa"
      },
      "source": [
        "import pandas as pd\n",
        "\n",
        "#extract country-level kewords search data\n",
        "country_data = pytrends.interest_by_region(resolution='COUNTRY', inc_low_vol=True)\n",
        "\n",
        "#get countries with the highest searches of \"Python\"\n",
        "data2 = country_data['Zoom App'].nlargest(10)\n",
        "\n",
        "#convert to dataframe\n",
        "data2 = data2.to_frame()\n",
        "\n",
        "data2"
      ],
      "execution_count": 43,
      "outputs": [
        {
          "output_type": "execute_result",
          "data": {
            "text/html": [
              "<div>\n",
              "<style scoped>\n",
              "    .dataframe tbody tr th:only-of-type {\n",
              "        vertical-align: middle;\n",
              "    }\n",
              "\n",
              "    .dataframe tbody tr th {\n",
              "        vertical-align: top;\n",
              "    }\n",
              "\n",
              "    .dataframe thead th {\n",
              "        text-align: right;\n",
              "    }\n",
              "</style>\n",
              "<table border=\"1\" class=\"dataframe\">\n",
              "  <thead>\n",
              "    <tr style=\"text-align: right;\">\n",
              "      <th></th>\n",
              "      <th>Zoom App</th>\n",
              "    </tr>\n",
              "    <tr>\n",
              "      <th>geoName</th>\n",
              "      <th></th>\n",
              "    </tr>\n",
              "  </thead>\n",
              "  <tbody>\n",
              "    <tr>\n",
              "      <th>American Samoa</th>\n",
              "      <td>100</td>\n",
              "    </tr>\n",
              "    <tr>\n",
              "      <th>Grenada</th>\n",
              "      <td>100</td>\n",
              "    </tr>\n",
              "    <tr>\n",
              "      <th>Liberia</th>\n",
              "      <td>75</td>\n",
              "    </tr>\n",
              "    <tr>\n",
              "      <th>Sierra Leone</th>\n",
              "      <td>73</td>\n",
              "    </tr>\n",
              "    <tr>\n",
              "      <th>Eswatini</th>\n",
              "      <td>71</td>\n",
              "    </tr>\n",
              "    <tr>\n",
              "      <th>Zambia</th>\n",
              "      <td>69</td>\n",
              "    </tr>\n",
              "    <tr>\n",
              "      <th>South Sudan</th>\n",
              "      <td>64</td>\n",
              "    </tr>\n",
              "    <tr>\n",
              "      <th>Nepal</th>\n",
              "      <td>62</td>\n",
              "    </tr>\n",
              "    <tr>\n",
              "      <th>Lesotho</th>\n",
              "      <td>61</td>\n",
              "    </tr>\n",
              "    <tr>\n",
              "      <th>Bhutan</th>\n",
              "      <td>59</td>\n",
              "    </tr>\n",
              "  </tbody>\n",
              "</table>\n",
              "</div>"
            ],
            "text/plain": [
              "                Zoom App\n",
              "geoName                 \n",
              "American Samoa       100\n",
              "Grenada              100\n",
              "Liberia               75\n",
              "Sierra Leone          73\n",
              "Eswatini              71\n",
              "Zambia                69\n",
              "South Sudan           64\n",
              "Nepal                 62\n",
              "Lesotho               61\n",
              "Bhutan                59"
            ]
          },
          "metadata": {
            "tags": []
          },
          "execution_count": 43
        }
      ]
    },
    {
      "cell_type": "code",
      "metadata": {
        "id": "Cn92Qcq9vZi7",
        "colab_type": "code",
        "colab": {
          "base_uri": "https://localhost:8080/",
          "height": 383
        },
        "outputId": "c1f2c5f1-0836-4048-e4d9-5796b43d97cb"
      },
      "source": [
        "data2.plot(kind='bar', legend=None)\n",
        "\n",
        "#titles\n",
        "plt.suptitle('Countries with Highest Number of Searches for Google meet')\n",
        "plt.ylabel('Number of searches')\n",
        "plt.xlabel('Countries')\n",
        "\n",
        "plt.show()"
      ],
      "execution_count": 44,
      "outputs": [
        {
          "output_type": "display_data",
          "data": {
            "image/png": "[encoded data removed]",
            "text/plain": [
              "<Figure size 432x288 with 1 Axes>"
            ]
          },
          "metadata": {
            "tags": [],
            "needs_background": "light"
          }
        }
      ]
    },
    {
      "cell_type": "code",
      "metadata": {
        "id": "kLxZ8kouvyLA",
        "colab_type": "code",
        "colab": {
          "base_uri": "https://localhost:8080/",
          "height": 106
        },
        "outputId": "b3055a31-2fcf-467b-ba7c-81e28adf0b5f"
      },
      "source": [
        "data3 = country_data[102:103]\n",
        "data3"
      ],
      "execution_count": 45,
      "outputs": [
        {
          "output_type": "execute_result",
          "data": {
            "text/html": [
              "<div>\n",
              "<style scoped>\n",
              "    .dataframe tbody tr th:only-of-type {\n",
              "        vertical-align: middle;\n",
              "    }\n",
              "\n",
              "    .dataframe tbody tr th {\n",
              "        vertical-align: top;\n",
              "    }\n",
              "\n",
              "    .dataframe thead th {\n",
              "        text-align: right;\n",
              "    }\n",
              "</style>\n",
              "<table border=\"1\" class=\"dataframe\">\n",
              "  <thead>\n",
              "    <tr style=\"text-align: right;\">\n",
              "      <th></th>\n",
              "      <th>Google Meet</th>\n",
              "      <th>Zoom App</th>\n",
              "      <th>Microsoft Teams</th>\n",
              "    </tr>\n",
              "    <tr>\n",
              "      <th>geoName</th>\n",
              "      <th></th>\n",
              "      <th></th>\n",
              "      <th></th>\n",
              "    </tr>\n",
              "  </thead>\n",
              "  <tbody>\n",
              "    <tr>\n",
              "      <th>India</th>\n",
              "      <td>34</td>\n",
              "      <td>43</td>\n",
              "      <td>23</td>\n",
              "    </tr>\n",
              "  </tbody>\n",
              "</table>\n",
              "</div>"
            ],
            "text/plain": [
              "         Google Meet  Zoom App  Microsoft Teams\n",
              "geoName                                        \n",
              "India             34        43               23"
            ]
          },
          "metadata": {
            "tags": []
          },
          "execution_count": 45
        }
      ]
    },
    {
      "cell_type": "code",
      "metadata": {
        "id": "KBAIzyOwv74i",
        "colab_type": "code",
        "colab": {
          "base_uri": "https://localhost:8080/",
          "height": 294
        },
        "outputId": "fafe6797-83d3-40b6-bbc0-41e9081953ec"
      },
      "source": [
        "data3.plot(kind='bar')\n",
        "\n",
        "plt.ylabel('number of searches')\n",
        "plt.xlabel('countries')\n",
        "\n",
        "plt.show()"
      ],
      "execution_count": 46,
      "outputs": [
        {
          "output_type": "display_data",
          "data": {
            "image/png": "[encoded data removed]",
            "text/plain": [
              "<Figure size 432x288 with 1 Axes>"
            ]
          },
          "metadata": {
            "tags": [],
            "needs_background": "light"
          }
        }
      ]
    },
    {
      "cell_type": "code",
      "metadata": {
        "id": "WpKhLHYXwLGW",
        "colab_type": "code",
        "colab": {}
      },
      "source": [
        ""
      ],
      "execution_count": null,
      "outputs": []
    }
  ]
}